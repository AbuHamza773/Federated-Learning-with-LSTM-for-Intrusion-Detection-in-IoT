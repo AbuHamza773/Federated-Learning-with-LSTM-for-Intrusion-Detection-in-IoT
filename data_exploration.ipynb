
{
 "cells": [
  {
   "cell_type": "markdown",
   "metadata": {},
   "source": [
    "# Data Exploration for Intrusion Detection Datasets"
   ]
  },
  {
   "cell_type": "code",
   "execution_count": null,
   "metadata": {},
   "outputs": [],
   "source": [
    "import pandas as pd
",
    "import matplotlib.pyplot as plt
",
    "import seaborn as sns
",
    "
",
    "# Load datasets
",
    "wsn_ds = pd.read_csv('data/wsn-ds.csv')
",
    "cic_ids = pd.read_csv('data/cic-ids-2017.csv')
",
    "unsw_nb15 = pd.read_csv('data/unsw-nb15.csv')
",
    "
",
    "# Display dataset information
",
    "print("WSN-DS Dataset Info:\n", wsn_ds.info())
",
    "print("\nCIC-IDS-2017 Dataset Info:\n", cic_ids.info())
",
    "print("\nUNSW-NB15 Dataset Info:\n", unsw_nb15.info())
",
    "
",
    "# Basic statistics
",
    "print("\nWSN-DS Statistics:\n", wsn_ds.describe())
",
    "print("\nCIC-IDS-2017 Statistics:\n", cic_ids.describe())
",
    "print("\nUNSW-NB15 Statistics:\n", unsw_nb15.describe())
",
    "
",
    "# Visualize class distribution
",
    "fig, axes = plt.subplots(1, 3, figsize=(18, 6))
",
    "
",
    "sns.countplot(data=wsn_ds, x='attack_type', ax=axes[0])
",
    "axes[0].set_title('WSN-DS Attack Type Distribution')
",
    "
",
    "sns.countplot(data=cic_ids, x='label', ax=axes[1])
",
    "axes[1].set_title('CIC-IDS-2017 Label Distribution')
",
    "
",
    "sns.countplot(data=unsw_nb15, x='label', ax=axes[2])
",
    "axes[2].set_title('UNSW-NB15 Label Distribution')
",
    "
",
    "plt.tight_layout()
",
    "plt.show()
"
   ]
  }
 ],
 "metadata": {
  "kernelspec": {
   "display_name": "Python 3",
   "language": "python",
   "name": "python3"
  },
  "language_info": {
   "codemirror_mode": {
    "name": "ipython",
    "version": 3
   },
   "file_extension": ".py",
   "mimetype": "text/x-python",
   "name": "python",
   "nbconvert_exporter": "python",
   "pygments_lexer": "ipython3",
   "version": "3.8.5"
  }
 },
 "nbformat": 4,
 "nbformat_minor": 4
}
