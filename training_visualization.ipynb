
{
 "cells": [
  {
   "cell_type": "markdown",
   "metadata": {},
   "source": [
    "# Training Visualization for Intrusion Detection LSTM Model"
   ]
  },
  {
   "cell_type": "code",
   "execution_count": null,
   "metadata": {},
   "outputs": [],
   "source": [
    "import matplotlib.pyplot as plt
",
    "
",
    "def plot_training_history(history):
",
    "    """Plot accuracy and loss curves for training and validation."""
",
    "    fig, axes = plt.subplots(1, 2, figsize=(12, 5))
",
    "
",
    "    # Plot accuracy
",
    "    axes[0].plot(history.history['accuracy'], label='Train Accuracy')
",
    "    axes[0].plot(history.history['val_accuracy'], label='Validation Accuracy')
",
    "    axes[0].set_title('Model Accuracy')
",
    "    axes[0].set_xlabel('Epochs')
",
    "    axes[0].set_ylabel('Accuracy')
",
    "    axes[0].legend()
",
    "
",
    "    # Plot loss
",
    "    axes[1].plot(history.history['loss'], label='Train Loss')
",
    "    axes[1].plot(history.history['val_loss'], label='Validation Loss')
",
    "    axes[1].set_title('Model Loss')
",
    "    axes[1].set_xlabel('Epochs')
",
    "    axes[1].set_ylabel('Loss')
",
    "    axes[1].legend()
",
    "
",
    "    plt.tight_layout()
",
    "    plt.show()
",
    "
",
    "# Example usage (replace `history` with actual training history object)
",
    "# plot_training_history(history)"
   ]
  }
 ],
 "metadata": {
  "kernelspec": {
   "display_name": "Python 3",
   "language": "python",
   "name": "python3"
  },
  "language_info": {
   "codemirror_mode": {
    "name": "ipython",
    "version": 3
   },
   "file_extension": ".py",
   "mimetype": "text/x-python",
   "name": "python",
   "nbconvert_exporter": "python",
   "pygments_lexer": "ipython3",
   "version": "3.8.5"
  }
 },
 "nbformat": 4,
 "nbformat_minor": 4
}
